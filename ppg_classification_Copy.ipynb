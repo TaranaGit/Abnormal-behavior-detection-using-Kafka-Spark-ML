{
 "cells": [
  {
   "cell_type": "code",
   "execution_count": 1,
   "id": "335f219e",
   "metadata": {},
   "outputs": [
    {
     "name": "stdout",
     "output_type": "stream",
     "text": [
      "3.9.7\n"
     ]
    }
   ],
   "source": [
    "from platform import python_version\n",
    "\n",
    "print(python_version())"
   ]
  },
  {
   "cell_type": "code",
   "execution_count": 2,
   "id": "cba981c0",
   "metadata": {},
   "outputs": [],
   "source": [
    "import pandas as pd\n",
    "import numpy as np\n",
    "import pickle\n",
    "import seaborn as sns\n",
    "import datetime\n",
    "from scipy import stats\n",
    "from sklearn.model_selection import train_test_split\n",
    "from sklearn.preprocessing import StandardScaler\n",
    "from sklearn.ensemble import RandomForestClassifier\n",
    "from sklearn.metrics import plot_confusion_matrix\n",
    "import matplotlib.pyplot as plt\n",
    "from sklearn.metrics import confusion_matrix, accuracy_score, f1_score\n",
    "path ='E:\\Data\\storage'"
   ]
  },
  {
   "cell_type": "code",
   "execution_count": 3,
   "id": "07c38536",
   "metadata": {},
   "outputs": [
    {
     "data": {
      "text/html": [
       "<div>\n",
       "<style scoped>\n",
       "    .dataframe tbody tr th:only-of-type {\n",
       "        vertical-align: middle;\n",
       "    }\n",
       "\n",
       "    .dataframe tbody tr th {\n",
       "        vertical-align: top;\n",
       "    }\n",
       "\n",
       "    .dataframe thead th {\n",
       "        text-align: right;\n",
       "    }\n",
       "</style>\n",
       "<table border=\"1\" class=\"dataframe\">\n",
       "  <thead>\n",
       "    <tr style=\"text-align: right;\">\n",
       "      <th></th>\n",
       "      <th>wrist_ACC_x</th>\n",
       "      <th>wrist_ACC_y</th>\n",
       "      <th>wrist_ACC_z</th>\n",
       "      <th>Magnitude</th>\n",
       "      <th>wrist_BVP</th>\n",
       "      <th>wrist_TEMP</th>\n",
       "      <th>wrist_EDA</th>\n",
       "      <th>Activity</th>\n",
       "      <th>Subject</th>\n",
       "    </tr>\n",
       "  </thead>\n",
       "  <tbody>\n",
       "    <tr>\n",
       "      <th>0</th>\n",
       "      <td>-0.671875</td>\n",
       "      <td>0.500000</td>\n",
       "      <td>-0.031250</td>\n",
       "      <td>0.838089</td>\n",
       "      <td>52.95</td>\n",
       "      <td>33.47</td>\n",
       "      <td>5.035345</td>\n",
       "      <td>8</td>\n",
       "      <td>S1</td>\n",
       "    </tr>\n",
       "    <tr>\n",
       "      <th>1</th>\n",
       "      <td>-0.843750</td>\n",
       "      <td>0.703125</td>\n",
       "      <td>0.125000</td>\n",
       "      <td>1.105407</td>\n",
       "      <td>107.33</td>\n",
       "      <td>33.49</td>\n",
       "      <td>5.036625</td>\n",
       "      <td>8</td>\n",
       "      <td>S1</td>\n",
       "    </tr>\n",
       "    <tr>\n",
       "      <th>2</th>\n",
       "      <td>-0.437500</td>\n",
       "      <td>0.734375</td>\n",
       "      <td>0.328125</td>\n",
       "      <td>0.915630</td>\n",
       "      <td>166.30</td>\n",
       "      <td>33.49</td>\n",
       "      <td>4.999472</td>\n",
       "      <td>8</td>\n",
       "      <td>S1</td>\n",
       "    </tr>\n",
       "    <tr>\n",
       "      <th>3</th>\n",
       "      <td>-0.562500</td>\n",
       "      <td>0.515625</td>\n",
       "      <td>0.250000</td>\n",
       "      <td>0.802979</td>\n",
       "      <td>-165.69</td>\n",
       "      <td>33.49</td>\n",
       "      <td>4.966161</td>\n",
       "      <td>8</td>\n",
       "      <td>S1</td>\n",
       "    </tr>\n",
       "    <tr>\n",
       "      <th>4</th>\n",
       "      <td>-0.546875</td>\n",
       "      <td>0.578125</td>\n",
       "      <td>0.250000</td>\n",
       "      <td>0.834147</td>\n",
       "      <td>-65.76</td>\n",
       "      <td>33.49</td>\n",
       "      <td>4.936694</td>\n",
       "      <td>8</td>\n",
       "      <td>S1</td>\n",
       "    </tr>\n",
       "    <tr>\n",
       "      <th>...</th>\n",
       "      <td>...</td>\n",
       "      <td>...</td>\n",
       "      <td>...</td>\n",
       "      <td>...</td>\n",
       "      <td>...</td>\n",
       "      <td>...</td>\n",
       "      <td>...</td>\n",
       "      <td>...</td>\n",
       "      <td>...</td>\n",
       "    </tr>\n",
       "    <tr>\n",
       "      <th>517951</th>\n",
       "      <td>-0.468750</td>\n",
       "      <td>0.859375</td>\n",
       "      <td>0.093750</td>\n",
       "      <td>0.983382</td>\n",
       "      <td>1.68</td>\n",
       "      <td>33.99</td>\n",
       "      <td>0.000000</td>\n",
       "      <td>0</td>\n",
       "      <td>S15</td>\n",
       "    </tr>\n",
       "    <tr>\n",
       "      <th>517952</th>\n",
       "      <td>-0.609375</td>\n",
       "      <td>0.890625</td>\n",
       "      <td>0.265625</td>\n",
       "      <td>1.111354</td>\n",
       "      <td>-16.38</td>\n",
       "      <td>33.99</td>\n",
       "      <td>0.000000</td>\n",
       "      <td>0</td>\n",
       "      <td>S15</td>\n",
       "    </tr>\n",
       "    <tr>\n",
       "      <th>517953</th>\n",
       "      <td>-0.468750</td>\n",
       "      <td>0.531250</td>\n",
       "      <td>-0.562500</td>\n",
       "      <td>0.904632</td>\n",
       "      <td>13.43</td>\n",
       "      <td>33.99</td>\n",
       "      <td>0.000000</td>\n",
       "      <td>0</td>\n",
       "      <td>S15</td>\n",
       "    </tr>\n",
       "    <tr>\n",
       "      <th>517954</th>\n",
       "      <td>-0.375000</td>\n",
       "      <td>0.406250</td>\n",
       "      <td>-0.843750</td>\n",
       "      <td>1.008751</td>\n",
       "      <td>-5.89</td>\n",
       "      <td>33.99</td>\n",
       "      <td>0.000000</td>\n",
       "      <td>0</td>\n",
       "      <td>S15</td>\n",
       "    </tr>\n",
       "    <tr>\n",
       "      <th>517955</th>\n",
       "      <td>-0.359375</td>\n",
       "      <td>0.281250</td>\n",
       "      <td>-0.890625</td>\n",
       "      <td>1.000732</td>\n",
       "      <td>-12.62</td>\n",
       "      <td>33.99</td>\n",
       "      <td>0.000000</td>\n",
       "      <td>0</td>\n",
       "      <td>S15</td>\n",
       "    </tr>\n",
       "  </tbody>\n",
       "</table>\n",
       "<p>517956 rows × 9 columns</p>\n",
       "</div>"
      ],
      "text/plain": [
       "        wrist_ACC_x  wrist_ACC_y  wrist_ACC_z  Magnitude  wrist_BVP  \\\n",
       "0         -0.671875     0.500000    -0.031250   0.838089      52.95   \n",
       "1         -0.843750     0.703125     0.125000   1.105407     107.33   \n",
       "2         -0.437500     0.734375     0.328125   0.915630     166.30   \n",
       "3         -0.562500     0.515625     0.250000   0.802979    -165.69   \n",
       "4         -0.546875     0.578125     0.250000   0.834147     -65.76   \n",
       "...             ...          ...          ...        ...        ...   \n",
       "517951    -0.468750     0.859375     0.093750   0.983382       1.68   \n",
       "517952    -0.609375     0.890625     0.265625   1.111354     -16.38   \n",
       "517953    -0.468750     0.531250    -0.562500   0.904632      13.43   \n",
       "517954    -0.375000     0.406250    -0.843750   1.008751      -5.89   \n",
       "517955    -0.359375     0.281250    -0.890625   1.000732     -12.62   \n",
       "\n",
       "        wrist_TEMP  wrist_EDA  Activity Subject  \n",
       "0            33.47   5.035345         8      S1  \n",
       "1            33.49   5.036625         8      S1  \n",
       "2            33.49   4.999472         8      S1  \n",
       "3            33.49   4.966161         8      S1  \n",
       "4            33.49   4.936694         8      S1  \n",
       "...            ...        ...       ...     ...  \n",
       "517951       33.99   0.000000         0     S15  \n",
       "517952       33.99   0.000000         0     S15  \n",
       "517953       33.99   0.000000         0     S15  \n",
       "517954       33.99   0.000000         0     S15  \n",
       "517955       33.99   0.000000         0     S15  \n",
       "\n",
       "[517956 rows x 9 columns]"
      ]
     },
     "execution_count": 3,
     "metadata": {},
     "output_type": "execute_result"
    }
   ],
   "source": [
    "df = pd.read_csv('E:\\Data\\data_final.csv')\n",
    "df"
   ]
  },
  {
   "cell_type": "code",
   "execution_count": 4,
   "id": "6b7cdddb",
   "metadata": {},
   "outputs": [
    {
     "data": {
      "text/html": [
       "<div>\n",
       "<style scoped>\n",
       "    .dataframe tbody tr th:only-of-type {\n",
       "        vertical-align: middle;\n",
       "    }\n",
       "\n",
       "    .dataframe tbody tr th {\n",
       "        vertical-align: top;\n",
       "    }\n",
       "\n",
       "    .dataframe thead th {\n",
       "        text-align: right;\n",
       "    }\n",
       "</style>\n",
       "<table border=\"1\" class=\"dataframe\">\n",
       "  <thead>\n",
       "    <tr style=\"text-align: right;\">\n",
       "      <th></th>\n",
       "      <th>wrist_ACC_x</th>\n",
       "      <th>wrist_ACC_y</th>\n",
       "      <th>wrist_ACC_z</th>\n",
       "      <th>Magnitude</th>\n",
       "      <th>wrist_BVP</th>\n",
       "      <th>wrist_TEMP</th>\n",
       "      <th>wrist_EDA</th>\n",
       "      <th>Activity</th>\n",
       "    </tr>\n",
       "  </thead>\n",
       "  <tbody>\n",
       "    <tr>\n",
       "      <th>count</th>\n",
       "      <td>517956.000000</td>\n",
       "      <td>517956.000000</td>\n",
       "      <td>517956.000000</td>\n",
       "      <td>517956.000000</td>\n",
       "      <td>517956.000000</td>\n",
       "      <td>517956.000000</td>\n",
       "      <td>517956.000000</td>\n",
       "      <td>517956.000000</td>\n",
       "    </tr>\n",
       "    <tr>\n",
       "      <th>mean</th>\n",
       "      <td>-0.523311</td>\n",
       "      <td>0.100442</td>\n",
       "      <td>0.356042</td>\n",
       "      <td>1.036891</td>\n",
       "      <td>0.042157</td>\n",
       "      <td>33.068502</td>\n",
       "      <td>0.388140</td>\n",
       "      <td>3.835615</td>\n",
       "    </tr>\n",
       "    <tr>\n",
       "      <th>std</th>\n",
       "      <td>0.350997</td>\n",
       "      <td>0.644760</td>\n",
       "      <td>0.405099</td>\n",
       "      <td>0.196428</td>\n",
       "      <td>83.879339</td>\n",
       "      <td>1.812486</td>\n",
       "      <td>1.607082</td>\n",
       "      <td>2.979353</td>\n",
       "    </tr>\n",
       "    <tr>\n",
       "      <th>min</th>\n",
       "      <td>-2.000000</td>\n",
       "      <td>-2.000000</td>\n",
       "      <td>-2.000000</td>\n",
       "      <td>0.034939</td>\n",
       "      <td>-1581.680000</td>\n",
       "      <td>26.270000</td>\n",
       "      <td>0.000000</td>\n",
       "      <td>0.000000</td>\n",
       "    </tr>\n",
       "    <tr>\n",
       "      <th>25%</th>\n",
       "      <td>-0.796875</td>\n",
       "      <td>-0.343750</td>\n",
       "      <td>0.109375</td>\n",
       "      <td>0.982389</td>\n",
       "      <td>-31.350000</td>\n",
       "      <td>31.810000</td>\n",
       "      <td>0.000000</td>\n",
       "      <td>0.000000</td>\n",
       "    </tr>\n",
       "    <tr>\n",
       "      <th>50%</th>\n",
       "      <td>-0.515625</td>\n",
       "      <td>-0.015625</td>\n",
       "      <td>0.343750</td>\n",
       "      <td>1.006085</td>\n",
       "      <td>2.730000</td>\n",
       "      <td>33.500000</td>\n",
       "      <td>0.000000</td>\n",
       "      <td>5.000000</td>\n",
       "    </tr>\n",
       "    <tr>\n",
       "      <th>75%</th>\n",
       "      <td>-0.281250</td>\n",
       "      <td>0.640625</td>\n",
       "      <td>0.687500</td>\n",
       "      <td>1.050251</td>\n",
       "      <td>33.870000</td>\n",
       "      <td>34.340000</td>\n",
       "      <td>0.000000</td>\n",
       "      <td>6.000000</td>\n",
       "    </tr>\n",
       "    <tr>\n",
       "      <th>max</th>\n",
       "      <td>1.984375</td>\n",
       "      <td>1.984375</td>\n",
       "      <td>1.984375</td>\n",
       "      <td>3.464102</td>\n",
       "      <td>1806.390000</td>\n",
       "      <td>36.450000</td>\n",
       "      <td>17.872803</td>\n",
       "      <td>8.000000</td>\n",
       "    </tr>\n",
       "  </tbody>\n",
       "</table>\n",
       "</div>"
      ],
      "text/plain": [
       "         wrist_ACC_x    wrist_ACC_y    wrist_ACC_z      Magnitude  \\\n",
       "count  517956.000000  517956.000000  517956.000000  517956.000000   \n",
       "mean       -0.523311       0.100442       0.356042       1.036891   \n",
       "std         0.350997       0.644760       0.405099       0.196428   \n",
       "min        -2.000000      -2.000000      -2.000000       0.034939   \n",
       "25%        -0.796875      -0.343750       0.109375       0.982389   \n",
       "50%        -0.515625      -0.015625       0.343750       1.006085   \n",
       "75%        -0.281250       0.640625       0.687500       1.050251   \n",
       "max         1.984375       1.984375       1.984375       3.464102   \n",
       "\n",
       "           wrist_BVP     wrist_TEMP      wrist_EDA       Activity  \n",
       "count  517956.000000  517956.000000  517956.000000  517956.000000  \n",
       "mean        0.042157      33.068502       0.388140       3.835615  \n",
       "std        83.879339       1.812486       1.607082       2.979353  \n",
       "min     -1581.680000      26.270000       0.000000       0.000000  \n",
       "25%       -31.350000      31.810000       0.000000       0.000000  \n",
       "50%         2.730000      33.500000       0.000000       5.000000  \n",
       "75%        33.870000      34.340000       0.000000       6.000000  \n",
       "max      1806.390000      36.450000      17.872803       8.000000  "
      ]
     },
     "execution_count": 4,
     "metadata": {},
     "output_type": "execute_result"
    }
   ],
   "source": [
    "df.describe()"
   ]
  },
  {
   "cell_type": "code",
   "execution_count": 6,
   "id": "f6240ee3",
   "metadata": {},
   "outputs": [
    {
     "data": {
      "text/html": [
       "<div>\n",
       "<style scoped>\n",
       "    .dataframe tbody tr th:only-of-type {\n",
       "        vertical-align: middle;\n",
       "    }\n",
       "\n",
       "    .dataframe tbody tr th {\n",
       "        vertical-align: top;\n",
       "    }\n",
       "\n",
       "    .dataframe thead th {\n",
       "        text-align: right;\n",
       "    }\n",
       "</style>\n",
       "<table border=\"1\" class=\"dataframe\">\n",
       "  <thead>\n",
       "    <tr style=\"text-align: right;\">\n",
       "      <th></th>\n",
       "      <th>wrist_ACC_x</th>\n",
       "      <th>wrist_ACC_y</th>\n",
       "      <th>wrist_ACC_z</th>\n",
       "      <th>Magnitude</th>\n",
       "      <th>wrist_BVP</th>\n",
       "      <th>wrist_TEMP</th>\n",
       "      <th>wrist_EDA</th>\n",
       "      <th>Activity</th>\n",
       "      <th>Subject</th>\n",
       "    </tr>\n",
       "  </thead>\n",
       "  <tbody>\n",
       "    <tr>\n",
       "      <th>0</th>\n",
       "      <td>-0.671875</td>\n",
       "      <td>0.500000</td>\n",
       "      <td>-0.031250</td>\n",
       "      <td>0.838089</td>\n",
       "      <td>52.95</td>\n",
       "      <td>33.47</td>\n",
       "      <td>5.035345</td>\n",
       "      <td>8</td>\n",
       "      <td>S1</td>\n",
       "    </tr>\n",
       "    <tr>\n",
       "      <th>1</th>\n",
       "      <td>-0.843750</td>\n",
       "      <td>0.703125</td>\n",
       "      <td>0.125000</td>\n",
       "      <td>1.105407</td>\n",
       "      <td>107.33</td>\n",
       "      <td>33.49</td>\n",
       "      <td>5.036625</td>\n",
       "      <td>8</td>\n",
       "      <td>S1</td>\n",
       "    </tr>\n",
       "    <tr>\n",
       "      <th>2</th>\n",
       "      <td>-0.437500</td>\n",
       "      <td>0.734375</td>\n",
       "      <td>0.328125</td>\n",
       "      <td>0.915630</td>\n",
       "      <td>166.30</td>\n",
       "      <td>33.49</td>\n",
       "      <td>4.999472</td>\n",
       "      <td>8</td>\n",
       "      <td>S1</td>\n",
       "    </tr>\n",
       "    <tr>\n",
       "      <th>3</th>\n",
       "      <td>-0.562500</td>\n",
       "      <td>0.515625</td>\n",
       "      <td>0.250000</td>\n",
       "      <td>0.802979</td>\n",
       "      <td>-165.69</td>\n",
       "      <td>33.49</td>\n",
       "      <td>4.966161</td>\n",
       "      <td>8</td>\n",
       "      <td>S1</td>\n",
       "    </tr>\n",
       "    <tr>\n",
       "      <th>4</th>\n",
       "      <td>-0.546875</td>\n",
       "      <td>0.578125</td>\n",
       "      <td>0.250000</td>\n",
       "      <td>0.834147</td>\n",
       "      <td>-65.76</td>\n",
       "      <td>33.49</td>\n",
       "      <td>4.936694</td>\n",
       "      <td>8</td>\n",
       "      <td>S1</td>\n",
       "    </tr>\n",
       "    <tr>\n",
       "      <th>...</th>\n",
       "      <td>...</td>\n",
       "      <td>...</td>\n",
       "      <td>...</td>\n",
       "      <td>...</td>\n",
       "      <td>...</td>\n",
       "      <td>...</td>\n",
       "      <td>...</td>\n",
       "      <td>...</td>\n",
       "      <td>...</td>\n",
       "    </tr>\n",
       "    <tr>\n",
       "      <th>377619</th>\n",
       "      <td>-0.906250</td>\n",
       "      <td>-0.140625</td>\n",
       "      <td>0.421875</td>\n",
       "      <td>1.009477</td>\n",
       "      <td>-7.01</td>\n",
       "      <td>31.21</td>\n",
       "      <td>0.000000</td>\n",
       "      <td>1</td>\n",
       "      <td>S15</td>\n",
       "    </tr>\n",
       "    <tr>\n",
       "      <th>377620</th>\n",
       "      <td>-0.906250</td>\n",
       "      <td>-0.140625</td>\n",
       "      <td>0.421875</td>\n",
       "      <td>1.009477</td>\n",
       "      <td>18.29</td>\n",
       "      <td>31.21</td>\n",
       "      <td>0.000000</td>\n",
       "      <td>1</td>\n",
       "      <td>S15</td>\n",
       "    </tr>\n",
       "    <tr>\n",
       "      <th>377621</th>\n",
       "      <td>-0.921875</td>\n",
       "      <td>-0.156250</td>\n",
       "      <td>0.421875</td>\n",
       "      <td>1.025790</td>\n",
       "      <td>-1.42</td>\n",
       "      <td>31.21</td>\n",
       "      <td>0.000000</td>\n",
       "      <td>1</td>\n",
       "      <td>S15</td>\n",
       "    </tr>\n",
       "    <tr>\n",
       "      <th>377622</th>\n",
       "      <td>-0.921875</td>\n",
       "      <td>-0.156250</td>\n",
       "      <td>0.421875</td>\n",
       "      <td>1.025790</td>\n",
       "      <td>-6.51</td>\n",
       "      <td>31.23</td>\n",
       "      <td>0.000000</td>\n",
       "      <td>1</td>\n",
       "      <td>S15</td>\n",
       "    </tr>\n",
       "    <tr>\n",
       "      <th>377623</th>\n",
       "      <td>-0.921875</td>\n",
       "      <td>-0.140625</td>\n",
       "      <td>0.421875</td>\n",
       "      <td>1.023527</td>\n",
       "      <td>0.64</td>\n",
       "      <td>31.23</td>\n",
       "      <td>0.000000</td>\n",
       "      <td>1</td>\n",
       "      <td>S15</td>\n",
       "    </tr>\n",
       "  </tbody>\n",
       "</table>\n",
       "<p>377624 rows × 9 columns</p>\n",
       "</div>"
      ],
      "text/plain": [
       "        wrist_ACC_x  wrist_ACC_y  wrist_ACC_z  Magnitude  wrist_BVP  \\\n",
       "0         -0.671875     0.500000    -0.031250   0.838089      52.95   \n",
       "1         -0.843750     0.703125     0.125000   1.105407     107.33   \n",
       "2         -0.437500     0.734375     0.328125   0.915630     166.30   \n",
       "3         -0.562500     0.515625     0.250000   0.802979    -165.69   \n",
       "4         -0.546875     0.578125     0.250000   0.834147     -65.76   \n",
       "...             ...          ...          ...        ...        ...   \n",
       "377619    -0.906250    -0.140625     0.421875   1.009477      -7.01   \n",
       "377620    -0.906250    -0.140625     0.421875   1.009477      18.29   \n",
       "377621    -0.921875    -0.156250     0.421875   1.025790      -1.42   \n",
       "377622    -0.921875    -0.156250     0.421875   1.025790      -6.51   \n",
       "377623    -0.921875    -0.140625     0.421875   1.023527       0.64   \n",
       "\n",
       "        wrist_TEMP  wrist_EDA  Activity Subject  \n",
       "0            33.47   5.035345         8      S1  \n",
       "1            33.49   5.036625         8      S1  \n",
       "2            33.49   4.999472         8      S1  \n",
       "3            33.49   4.966161         8      S1  \n",
       "4            33.49   4.936694         8      S1  \n",
       "...            ...        ...       ...     ...  \n",
       "377619       31.21   0.000000         1     S15  \n",
       "377620       31.21   0.000000         1     S15  \n",
       "377621       31.21   0.000000         1     S15  \n",
       "377622       31.23   0.000000         1     S15  \n",
       "377623       31.23   0.000000         1     S15  \n",
       "\n",
       "[377624 rows x 9 columns]"
      ]
     },
     "execution_count": 6,
     "metadata": {},
     "output_type": "execute_result"
    }
   ],
   "source": [
    "df = df[df.Activity != 0]\n",
    "df"
   ]
  },
  {
   "cell_type": "code",
   "execution_count": 7,
   "id": "285a66a7",
   "metadata": {},
   "outputs": [
    {
     "data": {
      "text/plain": [
       "array([8, 7, 6, 5, 4, 3, 2, 1], dtype=int64)"
      ]
     },
     "execution_count": 7,
     "metadata": {},
     "output_type": "execute_result"
    }
   ],
   "source": [
    "Unique = df['Activity'].unique()\n",
    "Unique"
   ]
  },
  {
   "cell_type": "code",
   "execution_count": null,
   "id": "f846ca87",
   "metadata": {},
   "outputs": [],
   "source": []
  },
  {
   "cell_type": "code",
   "execution_count": 8,
   "id": "4347a05b",
   "metadata": {},
   "outputs": [
    {
     "name": "stderr",
     "output_type": "stream",
     "text": [
      "C:\\ProgramData\\Anaconda3\\lib\\site-packages\\pandas\\core\\generic.py:6619: SettingWithCopyWarning: \n",
      "A value is trying to be set on a copy of a slice from a DataFrame\n",
      "\n",
      "See the caveats in the documentation: https://pandas.pydata.org/pandas-docs/stable/user_guide/indexing.html#returning-a-view-versus-a-copy\n",
      "  return self._update_inplace(result)\n"
     ]
    }
   ],
   "source": [
    "df['Activity'].replace([1,5,6,8], 0, inplace=True)\n",
    "df['Activity'].replace([2,3,4,7], 1, inplace=True)"
   ]
  },
  {
   "cell_type": "code",
   "execution_count": 9,
   "id": "4ecef7e2",
   "metadata": {},
   "outputs": [
    {
     "data": {
      "text/html": [
       "<div>\n",
       "<style scoped>\n",
       "    .dataframe tbody tr th:only-of-type {\n",
       "        vertical-align: middle;\n",
       "    }\n",
       "\n",
       "    .dataframe tbody tr th {\n",
       "        vertical-align: top;\n",
       "    }\n",
       "\n",
       "    .dataframe thead th {\n",
       "        text-align: right;\n",
       "    }\n",
       "</style>\n",
       "<table border=\"1\" class=\"dataframe\">\n",
       "  <thead>\n",
       "    <tr style=\"text-align: right;\">\n",
       "      <th></th>\n",
       "      <th>wrist_ACC_x</th>\n",
       "      <th>wrist_ACC_y</th>\n",
       "      <th>wrist_ACC_z</th>\n",
       "      <th>Magnitude</th>\n",
       "      <th>wrist_BVP</th>\n",
       "      <th>wrist_TEMP</th>\n",
       "      <th>wrist_EDA</th>\n",
       "      <th>Activity</th>\n",
       "      <th>Subject</th>\n",
       "    </tr>\n",
       "  </thead>\n",
       "  <tbody>\n",
       "    <tr>\n",
       "      <th>0</th>\n",
       "      <td>-0.671875</td>\n",
       "      <td>0.500000</td>\n",
       "      <td>-0.031250</td>\n",
       "      <td>0.838089</td>\n",
       "      <td>52.95</td>\n",
       "      <td>33.47</td>\n",
       "      <td>5.035345</td>\n",
       "      <td>0</td>\n",
       "      <td>S1</td>\n",
       "    </tr>\n",
       "    <tr>\n",
       "      <th>1</th>\n",
       "      <td>-0.843750</td>\n",
       "      <td>0.703125</td>\n",
       "      <td>0.125000</td>\n",
       "      <td>1.105407</td>\n",
       "      <td>107.33</td>\n",
       "      <td>33.49</td>\n",
       "      <td>5.036625</td>\n",
       "      <td>0</td>\n",
       "      <td>S1</td>\n",
       "    </tr>\n",
       "    <tr>\n",
       "      <th>2</th>\n",
       "      <td>-0.437500</td>\n",
       "      <td>0.734375</td>\n",
       "      <td>0.328125</td>\n",
       "      <td>0.915630</td>\n",
       "      <td>166.30</td>\n",
       "      <td>33.49</td>\n",
       "      <td>4.999472</td>\n",
       "      <td>0</td>\n",
       "      <td>S1</td>\n",
       "    </tr>\n",
       "    <tr>\n",
       "      <th>3</th>\n",
       "      <td>-0.562500</td>\n",
       "      <td>0.515625</td>\n",
       "      <td>0.250000</td>\n",
       "      <td>0.802979</td>\n",
       "      <td>-165.69</td>\n",
       "      <td>33.49</td>\n",
       "      <td>4.966161</td>\n",
       "      <td>0</td>\n",
       "      <td>S1</td>\n",
       "    </tr>\n",
       "    <tr>\n",
       "      <th>4</th>\n",
       "      <td>-0.546875</td>\n",
       "      <td>0.578125</td>\n",
       "      <td>0.250000</td>\n",
       "      <td>0.834147</td>\n",
       "      <td>-65.76</td>\n",
       "      <td>33.49</td>\n",
       "      <td>4.936694</td>\n",
       "      <td>0</td>\n",
       "      <td>S1</td>\n",
       "    </tr>\n",
       "    <tr>\n",
       "      <th>...</th>\n",
       "      <td>...</td>\n",
       "      <td>...</td>\n",
       "      <td>...</td>\n",
       "      <td>...</td>\n",
       "      <td>...</td>\n",
       "      <td>...</td>\n",
       "      <td>...</td>\n",
       "      <td>...</td>\n",
       "      <td>...</td>\n",
       "    </tr>\n",
       "    <tr>\n",
       "      <th>377619</th>\n",
       "      <td>-0.906250</td>\n",
       "      <td>-0.140625</td>\n",
       "      <td>0.421875</td>\n",
       "      <td>1.009477</td>\n",
       "      <td>-7.01</td>\n",
       "      <td>31.21</td>\n",
       "      <td>0.000000</td>\n",
       "      <td>0</td>\n",
       "      <td>S15</td>\n",
       "    </tr>\n",
       "    <tr>\n",
       "      <th>377620</th>\n",
       "      <td>-0.906250</td>\n",
       "      <td>-0.140625</td>\n",
       "      <td>0.421875</td>\n",
       "      <td>1.009477</td>\n",
       "      <td>18.29</td>\n",
       "      <td>31.21</td>\n",
       "      <td>0.000000</td>\n",
       "      <td>0</td>\n",
       "      <td>S15</td>\n",
       "    </tr>\n",
       "    <tr>\n",
       "      <th>377621</th>\n",
       "      <td>-0.921875</td>\n",
       "      <td>-0.156250</td>\n",
       "      <td>0.421875</td>\n",
       "      <td>1.025790</td>\n",
       "      <td>-1.42</td>\n",
       "      <td>31.21</td>\n",
       "      <td>0.000000</td>\n",
       "      <td>0</td>\n",
       "      <td>S15</td>\n",
       "    </tr>\n",
       "    <tr>\n",
       "      <th>377622</th>\n",
       "      <td>-0.921875</td>\n",
       "      <td>-0.156250</td>\n",
       "      <td>0.421875</td>\n",
       "      <td>1.025790</td>\n",
       "      <td>-6.51</td>\n",
       "      <td>31.23</td>\n",
       "      <td>0.000000</td>\n",
       "      <td>0</td>\n",
       "      <td>S15</td>\n",
       "    </tr>\n",
       "    <tr>\n",
       "      <th>377623</th>\n",
       "      <td>-0.921875</td>\n",
       "      <td>-0.140625</td>\n",
       "      <td>0.421875</td>\n",
       "      <td>1.023527</td>\n",
       "      <td>0.64</td>\n",
       "      <td>31.23</td>\n",
       "      <td>0.000000</td>\n",
       "      <td>0</td>\n",
       "      <td>S15</td>\n",
       "    </tr>\n",
       "  </tbody>\n",
       "</table>\n",
       "<p>377624 rows × 9 columns</p>\n",
       "</div>"
      ],
      "text/plain": [
       "        wrist_ACC_x  wrist_ACC_y  wrist_ACC_z  Magnitude  wrist_BVP  \\\n",
       "0         -0.671875     0.500000    -0.031250   0.838089      52.95   \n",
       "1         -0.843750     0.703125     0.125000   1.105407     107.33   \n",
       "2         -0.437500     0.734375     0.328125   0.915630     166.30   \n",
       "3         -0.562500     0.515625     0.250000   0.802979    -165.69   \n",
       "4         -0.546875     0.578125     0.250000   0.834147     -65.76   \n",
       "...             ...          ...          ...        ...        ...   \n",
       "377619    -0.906250    -0.140625     0.421875   1.009477      -7.01   \n",
       "377620    -0.906250    -0.140625     0.421875   1.009477      18.29   \n",
       "377621    -0.921875    -0.156250     0.421875   1.025790      -1.42   \n",
       "377622    -0.921875    -0.156250     0.421875   1.025790      -6.51   \n",
       "377623    -0.921875    -0.140625     0.421875   1.023527       0.64   \n",
       "\n",
       "        wrist_TEMP  wrist_EDA  Activity Subject  \n",
       "0            33.47   5.035345         0      S1  \n",
       "1            33.49   5.036625         0      S1  \n",
       "2            33.49   4.999472         0      S1  \n",
       "3            33.49   4.966161         0      S1  \n",
       "4            33.49   4.936694         0      S1  \n",
       "...            ...        ...       ...     ...  \n",
       "377619       31.21   0.000000         0     S15  \n",
       "377620       31.21   0.000000         0     S15  \n",
       "377621       31.21   0.000000         0     S15  \n",
       "377622       31.23   0.000000         0     S15  \n",
       "377623       31.23   0.000000         0     S15  \n",
       "\n",
       "[377624 rows x 9 columns]"
      ]
     },
     "execution_count": 9,
     "metadata": {},
     "output_type": "execute_result"
    }
   ],
   "source": [
    "df"
   ]
  },
  {
   "cell_type": "code",
   "execution_count": 9,
   "id": "f93a49cb",
   "metadata": {},
   "outputs": [
    {
     "data": {
      "text/plain": [
       "array([0, 1], dtype=int64)"
      ]
     },
     "execution_count": 9,
     "metadata": {},
     "output_type": "execute_result"
    }
   ],
   "source": [
    "Unique = df['Activity'].unique()\n",
    "Unique"
   ]
  },
  {
   "cell_type": "code",
   "execution_count": 10,
   "id": "80ea1573",
   "metadata": {},
   "outputs": [
    {
     "data": {
      "text/html": [
       "<div>\n",
       "<style scoped>\n",
       "    .dataframe tbody tr th:only-of-type {\n",
       "        vertical-align: middle;\n",
       "    }\n",
       "\n",
       "    .dataframe tbody tr th {\n",
       "        vertical-align: top;\n",
       "    }\n",
       "\n",
       "    .dataframe thead th {\n",
       "        text-align: right;\n",
       "    }\n",
       "</style>\n",
       "<table border=\"1\" class=\"dataframe\">\n",
       "  <thead>\n",
       "    <tr style=\"text-align: right;\">\n",
       "      <th></th>\n",
       "      <th>wrist_ACC_x</th>\n",
       "      <th>wrist_ACC_y</th>\n",
       "      <th>wrist_ACC_z</th>\n",
       "      <th>Magnitude</th>\n",
       "      <th>wrist_BVP</th>\n",
       "      <th>wrist_TEMP</th>\n",
       "      <th>wrist_EDA</th>\n",
       "      <th>Activity</th>\n",
       "      <th>Subject</th>\n",
       "    </tr>\n",
       "  </thead>\n",
       "  <tbody>\n",
       "    <tr>\n",
       "      <th>68020</th>\n",
       "      <td>-0.078125</td>\n",
       "      <td>-0.734375</td>\n",
       "      <td>0.703125</td>\n",
       "      <td>1.019703</td>\n",
       "      <td>-38.80</td>\n",
       "      <td>34.59</td>\n",
       "      <td>3.131150</td>\n",
       "      <td>1</td>\n",
       "      <td>S1</td>\n",
       "    </tr>\n",
       "    <tr>\n",
       "      <th>68021</th>\n",
       "      <td>-0.250000</td>\n",
       "      <td>-0.500000</td>\n",
       "      <td>0.671875</td>\n",
       "      <td>0.874023</td>\n",
       "      <td>-23.34</td>\n",
       "      <td>34.61</td>\n",
       "      <td>3.123463</td>\n",
       "      <td>1</td>\n",
       "      <td>S1</td>\n",
       "    </tr>\n",
       "    <tr>\n",
       "      <th>68022</th>\n",
       "      <td>-0.796875</td>\n",
       "      <td>-0.500000</td>\n",
       "      <td>0.515625</td>\n",
       "      <td>1.072790</td>\n",
       "      <td>-12.05</td>\n",
       "      <td>34.61</td>\n",
       "      <td>3.117057</td>\n",
       "      <td>1</td>\n",
       "      <td>S1</td>\n",
       "    </tr>\n",
       "    <tr>\n",
       "      <th>68023</th>\n",
       "      <td>-1.171875</td>\n",
       "      <td>0.109375</td>\n",
       "      <td>0.296875</td>\n",
       "      <td>1.213832</td>\n",
       "      <td>-11.86</td>\n",
       "      <td>34.61</td>\n",
       "      <td>3.109370</td>\n",
       "      <td>1</td>\n",
       "      <td>S1</td>\n",
       "    </tr>\n",
       "    <tr>\n",
       "      <th>68024</th>\n",
       "      <td>-0.875000</td>\n",
       "      <td>0.953125</td>\n",
       "      <td>0.343750</td>\n",
       "      <td>1.338744</td>\n",
       "      <td>-17.03</td>\n",
       "      <td>34.61</td>\n",
       "      <td>3.086309</td>\n",
       "      <td>1</td>\n",
       "      <td>S1</td>\n",
       "    </tr>\n",
       "    <tr>\n",
       "      <th>...</th>\n",
       "      <td>...</td>\n",
       "      <td>...</td>\n",
       "      <td>...</td>\n",
       "      <td>...</td>\n",
       "      <td>...</td>\n",
       "      <td>...</td>\n",
       "      <td>...</td>\n",
       "      <td>...</td>\n",
       "      <td>...</td>\n",
       "    </tr>\n",
       "    <tr>\n",
       "      <th>341039</th>\n",
       "      <td>-0.078125</td>\n",
       "      <td>-0.218750</td>\n",
       "      <td>0.031250</td>\n",
       "      <td>0.234375</td>\n",
       "      <td>18.45</td>\n",
       "      <td>30.91</td>\n",
       "      <td>0.000000</td>\n",
       "      <td>1</td>\n",
       "      <td>S15</td>\n",
       "    </tr>\n",
       "    <tr>\n",
       "      <th>341040</th>\n",
       "      <td>-1.312500</td>\n",
       "      <td>-0.156250</td>\n",
       "      <td>-0.031250</td>\n",
       "      <td>1.322137</td>\n",
       "      <td>-7.77</td>\n",
       "      <td>30.91</td>\n",
       "      <td>0.000000</td>\n",
       "      <td>1</td>\n",
       "      <td>S15</td>\n",
       "    </tr>\n",
       "    <tr>\n",
       "      <th>341041</th>\n",
       "      <td>-0.703125</td>\n",
       "      <td>-0.218750</td>\n",
       "      <td>-0.015625</td>\n",
       "      <td>0.736533</td>\n",
       "      <td>6.91</td>\n",
       "      <td>30.91</td>\n",
       "      <td>0.000000</td>\n",
       "      <td>1</td>\n",
       "      <td>S15</td>\n",
       "    </tr>\n",
       "    <tr>\n",
       "      <th>341042</th>\n",
       "      <td>-2.000000</td>\n",
       "      <td>0.187500</td>\n",
       "      <td>-0.406250</td>\n",
       "      <td>2.049438</td>\n",
       "      <td>-21.97</td>\n",
       "      <td>30.91</td>\n",
       "      <td>0.000000</td>\n",
       "      <td>1</td>\n",
       "      <td>S15</td>\n",
       "    </tr>\n",
       "    <tr>\n",
       "      <th>341043</th>\n",
       "      <td>-0.718750</td>\n",
       "      <td>-0.187500</td>\n",
       "      <td>-0.093750</td>\n",
       "      <td>0.748697</td>\n",
       "      <td>6.02</td>\n",
       "      <td>30.91</td>\n",
       "      <td>0.000000</td>\n",
       "      <td>1</td>\n",
       "      <td>S15</td>\n",
       "    </tr>\n",
       "  </tbody>\n",
       "</table>\n",
       "<p>109864 rows × 9 columns</p>\n",
       "</div>"
      ],
      "text/plain": [
       "        wrist_ACC_x  wrist_ACC_y  wrist_ACC_z  Magnitude  wrist_BVP  \\\n",
       "68020     -0.078125    -0.734375     0.703125   1.019703     -38.80   \n",
       "68021     -0.250000    -0.500000     0.671875   0.874023     -23.34   \n",
       "68022     -0.796875    -0.500000     0.515625   1.072790     -12.05   \n",
       "68023     -1.171875     0.109375     0.296875   1.213832     -11.86   \n",
       "68024     -0.875000     0.953125     0.343750   1.338744     -17.03   \n",
       "...             ...          ...          ...        ...        ...   \n",
       "341039    -0.078125    -0.218750     0.031250   0.234375      18.45   \n",
       "341040    -1.312500    -0.156250    -0.031250   1.322137      -7.77   \n",
       "341041    -0.703125    -0.218750    -0.015625   0.736533       6.91   \n",
       "341042    -2.000000     0.187500    -0.406250   2.049438     -21.97   \n",
       "341043    -0.718750    -0.187500    -0.093750   0.748697       6.02   \n",
       "\n",
       "        wrist_TEMP  wrist_EDA  Activity Subject  \n",
       "68020        34.59   3.131150         1      S1  \n",
       "68021        34.61   3.123463         1      S1  \n",
       "68022        34.61   3.117057         1      S1  \n",
       "68023        34.61   3.109370         1      S1  \n",
       "68024        34.61   3.086309         1      S1  \n",
       "...            ...        ...       ...     ...  \n",
       "341039       30.91   0.000000         1     S15  \n",
       "341040       30.91   0.000000         1     S15  \n",
       "341041       30.91   0.000000         1     S15  \n",
       "341042       30.91   0.000000         1     S15  \n",
       "341043       30.91   0.000000         1     S15  \n",
       "\n",
       "[109864 rows x 9 columns]"
      ]
     },
     "execution_count": 10,
     "metadata": {},
     "output_type": "execute_result"
    }
   ],
   "source": [
    "df[df['Activity']==1]"
   ]
  },
  {
   "cell_type": "code",
   "execution_count": 12,
   "id": "e21664ff",
   "metadata": {},
   "outputs": [
    {
     "data": {
      "text/plain": [
       "['wrist_ACC_x',\n",
       " 'wrist_ACC_y',\n",
       " 'wrist_ACC_z',\n",
       " 'Magnitude',\n",
       " 'wrist_BVP',\n",
       " 'wrist_TEMP',\n",
       " 'wrist_EDA']"
      ]
     },
     "execution_count": 12,
     "metadata": {},
     "output_type": "execute_result"
    }
   ],
   "source": [
    "remove = [\"Subject\", \"Activity\"]\n",
    "features = [column for column in list(df.columns) if column not in remove]\n",
    "features"
   ]
  },
  {
   "cell_type": "code",
   "execution_count": 13,
   "id": "1d944e26",
   "metadata": {},
   "outputs": [],
   "source": [
    "#Train-test split\n",
    "# X = df[features].values\n",
    "X = df[features]\n",
    "y = df.Activity"
   ]
  },
  {
   "cell_type": "code",
   "execution_count": 14,
   "id": "f9198842",
   "metadata": {},
   "outputs": [
    {
     "data": {
      "text/html": [
       "<div>\n",
       "<style scoped>\n",
       "    .dataframe tbody tr th:only-of-type {\n",
       "        vertical-align: middle;\n",
       "    }\n",
       "\n",
       "    .dataframe tbody tr th {\n",
       "        vertical-align: top;\n",
       "    }\n",
       "\n",
       "    .dataframe thead th {\n",
       "        text-align: right;\n",
       "    }\n",
       "</style>\n",
       "<table border=\"1\" class=\"dataframe\">\n",
       "  <thead>\n",
       "    <tr style=\"text-align: right;\">\n",
       "      <th></th>\n",
       "      <th>wrist_ACC_x</th>\n",
       "      <th>wrist_ACC_y</th>\n",
       "      <th>wrist_ACC_z</th>\n",
       "      <th>Magnitude</th>\n",
       "      <th>wrist_BVP</th>\n",
       "      <th>wrist_TEMP</th>\n",
       "      <th>wrist_EDA</th>\n",
       "    </tr>\n",
       "  </thead>\n",
       "  <tbody>\n",
       "    <tr>\n",
       "      <th>0</th>\n",
       "      <td>-0.671875</td>\n",
       "      <td>0.500000</td>\n",
       "      <td>-0.031250</td>\n",
       "      <td>0.838089</td>\n",
       "      <td>52.95</td>\n",
       "      <td>33.47</td>\n",
       "      <td>5.035345</td>\n",
       "    </tr>\n",
       "    <tr>\n",
       "      <th>1</th>\n",
       "      <td>-0.843750</td>\n",
       "      <td>0.703125</td>\n",
       "      <td>0.125000</td>\n",
       "      <td>1.105407</td>\n",
       "      <td>107.33</td>\n",
       "      <td>33.49</td>\n",
       "      <td>5.036625</td>\n",
       "    </tr>\n",
       "    <tr>\n",
       "      <th>2</th>\n",
       "      <td>-0.437500</td>\n",
       "      <td>0.734375</td>\n",
       "      <td>0.328125</td>\n",
       "      <td>0.915630</td>\n",
       "      <td>166.30</td>\n",
       "      <td>33.49</td>\n",
       "      <td>4.999472</td>\n",
       "    </tr>\n",
       "    <tr>\n",
       "      <th>3</th>\n",
       "      <td>-0.562500</td>\n",
       "      <td>0.515625</td>\n",
       "      <td>0.250000</td>\n",
       "      <td>0.802979</td>\n",
       "      <td>-165.69</td>\n",
       "      <td>33.49</td>\n",
       "      <td>4.966161</td>\n",
       "    </tr>\n",
       "    <tr>\n",
       "      <th>4</th>\n",
       "      <td>-0.546875</td>\n",
       "      <td>0.578125</td>\n",
       "      <td>0.250000</td>\n",
       "      <td>0.834147</td>\n",
       "      <td>-65.76</td>\n",
       "      <td>33.49</td>\n",
       "      <td>4.936694</td>\n",
       "    </tr>\n",
       "    <tr>\n",
       "      <th>...</th>\n",
       "      <td>...</td>\n",
       "      <td>...</td>\n",
       "      <td>...</td>\n",
       "      <td>...</td>\n",
       "      <td>...</td>\n",
       "      <td>...</td>\n",
       "      <td>...</td>\n",
       "    </tr>\n",
       "    <tr>\n",
       "      <th>377619</th>\n",
       "      <td>-0.906250</td>\n",
       "      <td>-0.140625</td>\n",
       "      <td>0.421875</td>\n",
       "      <td>1.009477</td>\n",
       "      <td>-7.01</td>\n",
       "      <td>31.21</td>\n",
       "      <td>0.000000</td>\n",
       "    </tr>\n",
       "    <tr>\n",
       "      <th>377620</th>\n",
       "      <td>-0.906250</td>\n",
       "      <td>-0.140625</td>\n",
       "      <td>0.421875</td>\n",
       "      <td>1.009477</td>\n",
       "      <td>18.29</td>\n",
       "      <td>31.21</td>\n",
       "      <td>0.000000</td>\n",
       "    </tr>\n",
       "    <tr>\n",
       "      <th>377621</th>\n",
       "      <td>-0.921875</td>\n",
       "      <td>-0.156250</td>\n",
       "      <td>0.421875</td>\n",
       "      <td>1.025790</td>\n",
       "      <td>-1.42</td>\n",
       "      <td>31.21</td>\n",
       "      <td>0.000000</td>\n",
       "    </tr>\n",
       "    <tr>\n",
       "      <th>377622</th>\n",
       "      <td>-0.921875</td>\n",
       "      <td>-0.156250</td>\n",
       "      <td>0.421875</td>\n",
       "      <td>1.025790</td>\n",
       "      <td>-6.51</td>\n",
       "      <td>31.23</td>\n",
       "      <td>0.000000</td>\n",
       "    </tr>\n",
       "    <tr>\n",
       "      <th>377623</th>\n",
       "      <td>-0.921875</td>\n",
       "      <td>-0.140625</td>\n",
       "      <td>0.421875</td>\n",
       "      <td>1.023527</td>\n",
       "      <td>0.64</td>\n",
       "      <td>31.23</td>\n",
       "      <td>0.000000</td>\n",
       "    </tr>\n",
       "  </tbody>\n",
       "</table>\n",
       "<p>377624 rows × 7 columns</p>\n",
       "</div>"
      ],
      "text/plain": [
       "        wrist_ACC_x  wrist_ACC_y  wrist_ACC_z  Magnitude  wrist_BVP  \\\n",
       "0         -0.671875     0.500000    -0.031250   0.838089      52.95   \n",
       "1         -0.843750     0.703125     0.125000   1.105407     107.33   \n",
       "2         -0.437500     0.734375     0.328125   0.915630     166.30   \n",
       "3         -0.562500     0.515625     0.250000   0.802979    -165.69   \n",
       "4         -0.546875     0.578125     0.250000   0.834147     -65.76   \n",
       "...             ...          ...          ...        ...        ...   \n",
       "377619    -0.906250    -0.140625     0.421875   1.009477      -7.01   \n",
       "377620    -0.906250    -0.140625     0.421875   1.009477      18.29   \n",
       "377621    -0.921875    -0.156250     0.421875   1.025790      -1.42   \n",
       "377622    -0.921875    -0.156250     0.421875   1.025790      -6.51   \n",
       "377623    -0.921875    -0.140625     0.421875   1.023527       0.64   \n",
       "\n",
       "        wrist_TEMP  wrist_EDA  \n",
       "0            33.47   5.035345  \n",
       "1            33.49   5.036625  \n",
       "2            33.49   4.999472  \n",
       "3            33.49   4.966161  \n",
       "4            33.49   4.936694  \n",
       "...            ...        ...  \n",
       "377619       31.21   0.000000  \n",
       "377620       31.21   0.000000  \n",
       "377621       31.21   0.000000  \n",
       "377622       31.23   0.000000  \n",
       "377623       31.23   0.000000  \n",
       "\n",
       "[377624 rows x 7 columns]"
      ]
     },
     "execution_count": 14,
     "metadata": {},
     "output_type": "execute_result"
    }
   ],
   "source": [
    "X"
   ]
  },
  {
   "cell_type": "code",
   "execution_count": 15,
   "id": "0d78e098",
   "metadata": {},
   "outputs": [
    {
     "data": {
      "text/plain": [
       "(377624, 7)"
      ]
     },
     "execution_count": 15,
     "metadata": {},
     "output_type": "execute_result"
    }
   ],
   "source": [
    "X.shape"
   ]
  },
  {
   "cell_type": "markdown",
   "id": "2369c400",
   "metadata": {},
   "source": [
    "# important Features"
   ]
  },
  {
   "cell_type": "code",
   "execution_count": 16,
   "id": "85d1156c",
   "metadata": {},
   "outputs": [
    {
     "data": {
      "text/plain": [
       "ExtraTreesRegressor()"
      ]
     },
     "execution_count": 16,
     "metadata": {},
     "output_type": "execute_result"
    }
   ],
   "source": [
    "from sklearn.ensemble import ExtraTreesRegressor\n",
    "model = ExtraTreesRegressor()\n",
    "model.fit(X,y)"
   ]
  },
  {
   "cell_type": "code",
   "execution_count": 17,
   "id": "8251cf03",
   "metadata": {},
   "outputs": [
    {
     "name": "stdout",
     "output_type": "stream",
     "text": [
      "[0.0572965  0.46133378 0.06847563 0.17559857 0.03548211 0.18760889\n",
      " 0.01420452]\n"
     ]
    }
   ],
   "source": [
    "print(model.feature_importances_)\n",
    "# max value is good , that means has impact as a feature"
   ]
  },
  {
   "cell_type": "markdown",
   "id": "d321f937",
   "metadata": {},
   "source": [
    "# plot graph of features importance for better visualization\n",
    "imprtnt_features = pd.Series(model.feature_importances_, index=X.columns)\n",
    "imprtnt_features.nlargest(10).plot(kind = 'barh')\n",
    "plt.show()"
   ]
  },
  {
   "cell_type": "code",
   "execution_count": 18,
   "id": "4fb2a5b8",
   "metadata": {},
   "outputs": [
    {
     "data": {
      "image/png": "[encoded data removed]",
      "text/plain": [
       "<Figure size 432x288 with 1 Axes>"
      ]
     },
     "metadata": {
      "needs_background": "light"
     },
     "output_type": "display_data"
    }
   ],
   "source": [
    "# plot graph of features importance for better visualization\n",
    "imprtnt_features = pd.Series(model.feature_importances_, index=X.columns)\n",
    "imprtnt_features.nlargest(12).plot(kind = 'barh')\n",
    "plt.show()"
   ]
  },
  {
   "cell_type": "markdown",
   "id": "93403a8e",
   "metadata": {},
   "source": [
    "# Train, Test, Classification"
   ]
  },
  {
   "cell_type": "code",
   "execution_count": 19,
   "id": "9f466805",
   "metadata": {},
   "outputs": [],
   "source": [
    "from sklearn.model_selection import train_test_split\n",
    "X_train, X_test, y_train, y_test = train_test_split(X, y, test_size=0.20, random_state = 42, stratify = y)"
   ]
  },
  {
   "cell_type": "code",
   "execution_count": 20,
   "id": "1a2648b7",
   "metadata": {},
   "outputs": [
    {
     "data": {
      "text/html": [
       "<div>\n",
       "<style scoped>\n",
       "    .dataframe tbody tr th:only-of-type {\n",
       "        vertical-align: middle;\n",
       "    }\n",
       "\n",
       "    .dataframe tbody tr th {\n",
       "        vertical-align: top;\n",
       "    }\n",
       "\n",
       "    .dataframe thead th {\n",
       "        text-align: right;\n",
       "    }\n",
       "</style>\n",
       "<table border=\"1\" class=\"dataframe\">\n",
       "  <thead>\n",
       "    <tr style=\"text-align: right;\">\n",
       "      <th></th>\n",
       "      <th>wrist_ACC_x</th>\n",
       "      <th>wrist_ACC_y</th>\n",
       "      <th>wrist_ACC_z</th>\n",
       "      <th>Magnitude</th>\n",
       "      <th>wrist_BVP</th>\n",
       "      <th>wrist_TEMP</th>\n",
       "      <th>wrist_EDA</th>\n",
       "    </tr>\n",
       "  </thead>\n",
       "  <tbody>\n",
       "    <tr>\n",
       "      <th>177234</th>\n",
       "      <td>-0.968750</td>\n",
       "      <td>-0.046875</td>\n",
       "      <td>0.171875</td>\n",
       "      <td>0.984995</td>\n",
       "      <td>-45.83</td>\n",
       "      <td>33.91</td>\n",
       "      <td>0.0</td>\n",
       "    </tr>\n",
       "    <tr>\n",
       "      <th>27753</th>\n",
       "      <td>0.453125</td>\n",
       "      <td>-0.781250</td>\n",
       "      <td>0.390625</td>\n",
       "      <td>0.984003</td>\n",
       "      <td>-91.44</td>\n",
       "      <td>34.34</td>\n",
       "      <td>0.0</td>\n",
       "    </tr>\n",
       "    <tr>\n",
       "      <th>95084</th>\n",
       "      <td>-0.843750</td>\n",
       "      <td>1.515625</td>\n",
       "      <td>0.140625</td>\n",
       "      <td>1.740347</td>\n",
       "      <td>-25.66</td>\n",
       "      <td>32.81</td>\n",
       "      <td>0.0</td>\n",
       "    </tr>\n",
       "    <tr>\n",
       "      <th>133920</th>\n",
       "      <td>-0.296875</td>\n",
       "      <td>-0.843750</td>\n",
       "      <td>0.421875</td>\n",
       "      <td>0.988953</td>\n",
       "      <td>-15.39</td>\n",
       "      <td>34.00</td>\n",
       "      <td>0.0</td>\n",
       "    </tr>\n",
       "    <tr>\n",
       "      <th>322210</th>\n",
       "      <td>-0.109375</td>\n",
       "      <td>-1.000000</td>\n",
       "      <td>0.343750</td>\n",
       "      <td>1.063074</td>\n",
       "      <td>-6.31</td>\n",
       "      <td>32.71</td>\n",
       "      <td>0.0</td>\n",
       "    </tr>\n",
       "  </tbody>\n",
       "</table>\n",
       "</div>"
      ],
      "text/plain": [
       "        wrist_ACC_x  wrist_ACC_y  wrist_ACC_z  Magnitude  wrist_BVP  \\\n",
       "177234    -0.968750    -0.046875     0.171875   0.984995     -45.83   \n",
       "27753      0.453125    -0.781250     0.390625   0.984003     -91.44   \n",
       "95084     -0.843750     1.515625     0.140625   1.740347     -25.66   \n",
       "133920    -0.296875    -0.843750     0.421875   0.988953     -15.39   \n",
       "322210    -0.109375    -1.000000     0.343750   1.063074      -6.31   \n",
       "\n",
       "        wrist_TEMP  wrist_EDA  \n",
       "177234       33.91        0.0  \n",
       "27753        34.34        0.0  \n",
       "95084        32.81        0.0  \n",
       "133920       34.00        0.0  \n",
       "322210       32.71        0.0  "
      ]
     },
     "execution_count": 20,
     "metadata": {},
     "output_type": "execute_result"
    }
   ],
   "source": [
    "X_train.head()"
   ]
  },
  {
   "cell_type": "code",
   "execution_count": 21,
   "id": "ca88cdc2",
   "metadata": {},
   "outputs": [
    {
     "data": {
      "text/plain": [
       "(75525, 7)"
      ]
     },
     "execution_count": 21,
     "metadata": {},
     "output_type": "execute_result"
    }
   ],
   "source": [
    "X_test.shape"
   ]
  },
  {
   "cell_type": "code",
   "execution_count": 22,
   "id": "22e3d842",
   "metadata": {},
   "outputs": [
    {
     "data": {
      "text/html": [
       "<div>\n",
       "<style scoped>\n",
       "    .dataframe tbody tr th:only-of-type {\n",
       "        vertical-align: middle;\n",
       "    }\n",
       "\n",
       "    .dataframe tbody tr th {\n",
       "        vertical-align: top;\n",
       "    }\n",
       "\n",
       "    .dataframe thead th {\n",
       "        text-align: right;\n",
       "    }\n",
       "</style>\n",
       "<table border=\"1\" class=\"dataframe\">\n",
       "  <thead>\n",
       "    <tr style=\"text-align: right;\">\n",
       "      <th></th>\n",
       "      <th>wrist_ACC_x</th>\n",
       "      <th>wrist_ACC_y</th>\n",
       "      <th>wrist_ACC_z</th>\n",
       "      <th>Magnitude</th>\n",
       "      <th>wrist_BVP</th>\n",
       "      <th>wrist_TEMP</th>\n",
       "      <th>wrist_EDA</th>\n",
       "    </tr>\n",
       "  </thead>\n",
       "  <tbody>\n",
       "    <tr>\n",
       "      <th>38199</th>\n",
       "      <td>-0.718750</td>\n",
       "      <td>-0.203125</td>\n",
       "      <td>0.687500</td>\n",
       "      <td>1.015144</td>\n",
       "      <td>2.63</td>\n",
       "      <td>31.83</td>\n",
       "      <td>0.000000</td>\n",
       "    </tr>\n",
       "    <tr>\n",
       "      <th>108001</th>\n",
       "      <td>-0.703125</td>\n",
       "      <td>-0.406250</td>\n",
       "      <td>0.593750</td>\n",
       "      <td>1.005964</td>\n",
       "      <td>-100.86</td>\n",
       "      <td>33.33</td>\n",
       "      <td>3.488599</td>\n",
       "    </tr>\n",
       "    <tr>\n",
       "      <th>63039</th>\n",
       "      <td>-0.515625</td>\n",
       "      <td>-0.078125</td>\n",
       "      <td>0.843750</td>\n",
       "      <td>0.991911</td>\n",
       "      <td>-47.88</td>\n",
       "      <td>34.97</td>\n",
       "      <td>0.000000</td>\n",
       "    </tr>\n",
       "    <tr>\n",
       "      <th>121261</th>\n",
       "      <td>-0.828125</td>\n",
       "      <td>-0.078125</td>\n",
       "      <td>0.578125</td>\n",
       "      <td>1.012977</td>\n",
       "      <td>45.51</td>\n",
       "      <td>35.77</td>\n",
       "      <td>0.000000</td>\n",
       "    </tr>\n",
       "    <tr>\n",
       "      <th>261113</th>\n",
       "      <td>0.296875</td>\n",
       "      <td>-0.421875</td>\n",
       "      <td>0.921875</td>\n",
       "      <td>1.056393</td>\n",
       "      <td>82.29</td>\n",
       "      <td>34.93</td>\n",
       "      <td>0.000000</td>\n",
       "    </tr>\n",
       "  </tbody>\n",
       "</table>\n",
       "</div>"
      ],
      "text/plain": [
       "        wrist_ACC_x  wrist_ACC_y  wrist_ACC_z  Magnitude  wrist_BVP  \\\n",
       "38199     -0.718750    -0.203125     0.687500   1.015144       2.63   \n",
       "108001    -0.703125    -0.406250     0.593750   1.005964    -100.86   \n",
       "63039     -0.515625    -0.078125     0.843750   0.991911     -47.88   \n",
       "121261    -0.828125    -0.078125     0.578125   1.012977      45.51   \n",
       "261113     0.296875    -0.421875     0.921875   1.056393      82.29   \n",
       "\n",
       "        wrist_TEMP  wrist_EDA  \n",
       "38199        31.83   0.000000  \n",
       "108001       33.33   3.488599  \n",
       "63039        34.97   0.000000  \n",
       "121261       35.77   0.000000  \n",
       "261113       34.93   0.000000  "
      ]
     },
     "execution_count": 22,
     "metadata": {},
     "output_type": "execute_result"
    }
   ],
   "source": [
    "X_test.head()"
   ]
  },
  {
   "cell_type": "code",
   "execution_count": 19,
   "id": "3dee87ed",
   "metadata": {},
   "outputs": [],
   "source": [
    "X_test.to_csv(f'{path}/test_data.csv')"
   ]
  },
  {
   "cell_type": "code",
   "execution_count": 79,
   "id": "c954c507",
   "metadata": {},
   "outputs": [],
   "source": [
    "from sklearn.ensemble import RandomForestClassifier\n",
    "from sklearn import metrics #Import scikit-learn metrics module for accuracy calculation\n",
    "rf = RandomForestClassifier(n_estimators = 65, random_state = 42)\n",
    "rf.fit(X_train, y_train)\n",
    "# predictions = rf.predict(X_test)\n",
    "y_pred = rf.predict(X_test)"
   ]
  },
  {
   "cell_type": "code",
   "execution_count": 56,
   "id": "0229418a",
   "metadata": {},
   "outputs": [],
   "source": [
    "# score = rf.score(y_pred,y_test)\n",
    "# print(score)"
   ]
  },
  {
   "cell_type": "code",
   "execution_count": 80,
   "id": "a5fc2aa0",
   "metadata": {},
   "outputs": [
    {
     "name": "stdout",
     "output_type": "stream",
     "text": [
      "Accuracy: 0.9495001655081099\n"
     ]
    }
   ],
   "source": [
    "# print(\"Accuracy:\",metrics.accuracy_score(y_test, y_pred))\n",
    "# print(\"Accuracy:\",metrics.accuracy_score(y_test,y_pred))\n",
    "rf_acc = metrics.accuracy_score(y_test,y_pred)\n",
    "print(\"Accuracy:\",rf_acc)"
   ]
  },
  {
   "cell_type": "code",
   "execution_count": 81,
   "id": "c1f491c9",
   "metadata": {},
   "outputs": [
    {
     "name": "stdout",
     "output_type": "stream",
     "text": [
      "Precision: 0.9136611013744119\n"
     ]
    }
   ],
   "source": [
    "# print(\"Precision:\",metrics.precision_score(y_test, y_pred))\n",
    "rf_Pre = metrics.precision_score(y_test, y_pred)\n",
    "print(\"Precision:\",rf_Pre)"
   ]
  },
  {
   "cell_type": "code",
   "execution_count": 82,
   "id": "a69da90c",
   "metadata": {},
   "outputs": [
    {
     "name": "stdout",
     "output_type": "stream",
     "text": [
      "0.9107208532548731\n"
     ]
    }
   ],
   "source": [
    "# print(\"Recall:\",metrics.recall_score(y_test, y_pred))\n",
    "rf_Recall= metrics.recall_score(y_test, y_pred)\n",
    "print(rf_Recall)"
   ]
  },
  {
   "cell_type": "code",
   "execution_count": 123,
   "id": "b35240f0",
   "metadata": {},
   "outputs": [
    {
     "name": "stdout",
     "output_type": "stream",
     "text": [
      "0.9379539215040475\n"
     ]
    }
   ],
   "source": [
    "from sklearn.metrics import roc_curve, roc_auc_score\n",
    "fpr, tpr, _ = roc_curve(y_test, y_pred)\n",
    "auc_score = roc_auc_score(y_test, y_pred)\n",
    "print(auc_score)"
   ]
  },
  {
   "cell_type": "code",
   "execution_count": 122,
   "id": "9d13b175",
   "metadata": {},
   "outputs": [
    {
     "data": {
      "image/png": "[encoded data removed]",
      "text/plain": [
       "<Figure size 432x288 with 1 Axes>"
      ]
     },
     "metadata": {
      "needs_background": "light"
     },
     "output_type": "display_data"
    }
   ],
   "source": [
    "\n",
    "import numpy as np \n",
    "import matplotlib.pyplot as plt \n",
    "  \n",
    "X = ['Random Forest', 'Decision Tree', 'Logistic Regression']\n",
    "Accuracy = [0.9495001655081099,0.9269910625620655,0.8465541211519364]\n",
    "Precision = [0.9136611013744119,0.8730129559864008,0.8021599810111559]\n",
    "Recall = [0.9107208532548731,0.873574843692534,0.621460095623391]\n",
    "  \n",
    "X_axis = np.arange(len(X))\n",
    "  \n",
    "plt.bar(X_axis - 0.2, Accuracy, 0.2, label = 'Accuracy')\n",
    "plt.bar(X_axis, Precision, 0.2, label = 'Precision')\n",
    "plt.bar(X_axis + 0.2, Recall, 0.2, label = 'Recall')\n",
    "\n",
    "plt.xticks(X_axis, X)\n",
    "plt.xlabel(\"Classifier\")\n",
    "plt.ylabel(\"Accuracy\")\n",
    "# plt.title(\"Number of Students in each group\")\n",
    "# plt.legend(['Accuracy','Precision'],loc='upper left')\n",
    "plt.legend(loc='upper right')\n",
    "\n",
    "plt.show()"
   ]
  },
  {
   "cell_type": "code",
   "execution_count": 60,
   "id": "a646bd1e",
   "metadata": {},
   "outputs": [],
   "source": [
    "# from sklearn.metrics import accuracy_score, precision_score, recall_score\n",
    "# # print(accuracy_score(X_test, y_test))\n",
    "# # from sklearn import metrics\n",
    "# precision = metrics.precision_score(X_test, y_test)\n",
    "# recall = metrics.recall_score(X_test, y_test)"
   ]
  },
  {
   "cell_type": "code",
   "execution_count": 61,
   "id": "4bfef4ee",
   "metadata": {},
   "outputs": [
    {
     "name": "stdout",
     "output_type": "stream",
     "text": [
      "[[51901  1872]\n",
      " [ 1942 19810]]\n"
     ]
    }
   ],
   "source": [
    "from sklearn.metrics import confusion_matrix\n",
    "cm = confusion_matrix(y_test,predictions)\n",
    "print(cm)"
   ]
  },
  {
   "cell_type": "code",
   "execution_count": 38,
   "id": "bd9b44ee",
   "metadata": {},
   "outputs": [],
   "source": [
    "# from sklearn.metrics import confusion_matrix, ConfusionMatrixDisplay\n",
    "# cm = confusion_matrix(y_test,predictions)\n",
    "# np.set_printoptions(precision=2)\n",
    "# plt.figure(figsize = (10,5))\n",
    "# plot_confusion_matrix(cm, classes=[0, 1], normalize=True)\n",
    "# # plot_confusion_matrix(cm,normalize=True)"
   ]
  },
  {
   "cell_type": "code",
   "execution_count": 64,
   "id": "5c0820f5",
   "metadata": {},
   "outputs": [
    {
     "data": {
      "image/png": "[encoded data removed]",
      "text/plain": [
       "<Figure size 360x360 with 2 Axes>"
      ]
     },
     "metadata": {
      "needs_background": "light"
     },
     "output_type": "display_data"
    }
   ],
   "source": [
    "from sklearn.metrics import confusion_matrix\n",
    "cm = confusion_matrix(y_test,y_pred)\n",
    "import seaborn as sns\n",
    "import matplotlib.pyplot as plt\n",
    "\n",
    "f, ax = plt.subplots(figsize = (5,5))\n",
    "sns.heatmap(cm, annot = True, linewidths = 0.5, linecolor = \"red\", fmt =\".0f\", ax=ax)\n",
    "plt.xlabel(\"y_pred\")\n",
    "plt.ylabel(\"y_Actual\")\n",
    "plt.show()"
   ]
  },
  {
   "cell_type": "code",
   "execution_count": 65,
   "id": "c596a137",
   "metadata": {},
   "outputs": [
    {
     "data": {
      "text/plain": [
       "Text(0.5, 257.44, 'Predicted label')"
      ]
     },
     "execution_count": 65,
     "metadata": {},
     "output_type": "execute_result"
    },
    {
     "data": {
      "image/png": "[encoded data removed]",
      "text/plain": [
       "<Figure size 432x288 with 2 Axes>"
      ]
     },
     "metadata": {
      "needs_background": "light"
     },
     "output_type": "display_data"
    }
   ],
   "source": [
    "class_names=[0,1] # name  of classes\n",
    "fig, ax = plt.subplots()\n",
    "tick_marks = np.arange(len(class_names))\n",
    "plt.xticks(tick_marks, class_names)\n",
    "plt.yticks(tick_marks, class_names)\n",
    "# create heatmap\n",
    "sns.heatmap(pd.DataFrame(cm), annot=True, cmap=\"YlGnBu\" ,fmt='g')\n",
    "ax.xaxis.set_label_position(\"top\")\n",
    "plt.tight_layout()\n",
    "plt.title('Confusion matrix', y=1.1)\n",
    "plt.ylabel('Actual label')\n",
    "plt.xlabel('Predicted label')"
   ]
  },
  {
   "cell_type": "code",
   "execution_count": 45,
   "id": "6ebd7910",
   "metadata": {},
   "outputs": [],
   "source": [
    "import pickle\n",
    "# open a file, where you want to store the data\n",
    "file = open('random_forest_model_ppg.pkl', 'wb')\n",
    "\n",
    "# dump information to that file\n",
    "pickle.dump(rf,file)"
   ]
  },
  {
   "cell_type": "markdown",
   "id": "bba58f6d",
   "metadata": {},
   "source": [
    "# Decision Tree Classifier"
   ]
  },
  {
   "cell_type": "code",
   "execution_count": 32,
   "id": "25f4a70a",
   "metadata": {},
   "outputs": [],
   "source": [
    "# Load libraries\n",
    "import pandas as pd\n",
    "from sklearn.tree import DecisionTreeClassifier # Import Decision Tree Classifier\n",
    "from sklearn.model_selection import train_test_split # Import train_test_split function\n",
    "from sklearn import metrics #Import scikit-learn metrics module for accuracy calculation"
   ]
  },
  {
   "cell_type": "code",
   "execution_count": 33,
   "id": "1ff747dc",
   "metadata": {},
   "outputs": [],
   "source": [
    "# Split dataset into training set and test set\n",
    "X_train, X_test, y_train, y_test = train_test_split(X, y, test_size=0.2, random_state=1) # 70% training and 30% test"
   ]
  },
  {
   "cell_type": "code",
   "execution_count": 66,
   "id": "e800d15e",
   "metadata": {},
   "outputs": [],
   "source": [
    "# Create Decision Tree classifer object\n",
    "clf = DecisionTreeClassifier()\n",
    "\n",
    "# Train Decision Tree Classifer\n",
    "clf = clf.fit(X_train,y_train)\n",
    "\n",
    "#Predict the response for test dataset\n",
    "y_pred = clf.predict(X_test)"
   ]
  },
  {
   "cell_type": "code",
   "execution_count": 67,
   "id": "5031234d",
   "metadata": {},
   "outputs": [
    {
     "name": "stdout",
     "output_type": "stream",
     "text": [
      "0.9269910625620655\n"
     ]
    }
   ],
   "source": [
    "\n",
    "score = clf.score(X_test, y_test)\n",
    "print(score)"
   ]
  },
  {
   "cell_type": "code",
   "execution_count": 68,
   "id": "354924be",
   "metadata": {},
   "outputs": [
    {
     "name": "stdout",
     "output_type": "stream",
     "text": [
      "Accuracy: 0.9269910625620655\n"
     ]
    }
   ],
   "source": [
    "# Model Accuracy, how often is the classifier correct?\n",
    "print(\"Accuracy:\",metrics.accuracy_score(y_test, y_pred))"
   ]
  },
  {
   "cell_type": "code",
   "execution_count": 69,
   "id": "864d9ec3",
   "metadata": {},
   "outputs": [
    {
     "name": "stdout",
     "output_type": "stream",
     "text": [
      "Precision: 0.8730129559864008\n"
     ]
    }
   ],
   "source": [
    "print(\"Precision:\",metrics.precision_score(y_test, y_pred))"
   ]
  },
  {
   "cell_type": "code",
   "execution_count": 70,
   "id": "e2d05aed",
   "metadata": {},
   "outputs": [
    {
     "name": "stdout",
     "output_type": "stream",
     "text": [
      "Recall: 0.873574843692534\n"
     ]
    }
   ],
   "source": [
    "print(\"Recall:\",metrics.recall_score(y_test, y_pred))"
   ]
  },
  {
   "cell_type": "markdown",
   "id": "90042c4b",
   "metadata": {},
   "source": [
    "# Logistic Regression"
   ]
  },
  {
   "cell_type": "code",
   "execution_count": 72,
   "id": "b0a759be",
   "metadata": {},
   "outputs": [
    {
     "name": "stderr",
     "output_type": "stream",
     "text": [
      "C:\\ProgramData\\Anaconda3\\lib\\site-packages\\sklearn\\linear_model\\_logistic.py:814: ConvergenceWarning: lbfgs failed to converge (status=1):\n",
      "STOP: TOTAL NO. of ITERATIONS REACHED LIMIT.\n",
      "\n",
      "Increase the number of iterations (max_iter) or scale the data as shown in:\n",
      "    https://scikit-learn.org/stable/modules/preprocessing.html\n",
      "Please also refer to the documentation for alternative solver options:\n",
      "    https://scikit-learn.org/stable/modules/linear_model.html#logistic-regression\n",
      "  n_iter_i = _check_optimize_result(\n"
     ]
    }
   ],
   "source": [
    "# import the class\n",
    "from sklearn.linear_model import LogisticRegression\n",
    "\n",
    "# instantiate the model (using the default parameters)\n",
    "logreg = LogisticRegression()\n",
    "\n",
    "# fit the model with data\n",
    "logreg.fit(X_train,y_train)\n",
    "\n",
    "#\n",
    "y_pred=logreg.predict(X_test)"
   ]
  },
  {
   "cell_type": "code",
   "execution_count": 30,
   "id": "315348e2",
   "metadata": {},
   "outputs": [
    {
     "name": "stdout",
     "output_type": "stream",
     "text": [
      "0.8465541211519364\n"
     ]
    }
   ],
   "source": [
    "score = logreg.score(X_test, y_test)\n",
    "print(score)"
   ]
  },
  {
   "cell_type": "code",
   "execution_count": 73,
   "id": "27fda99a",
   "metadata": {},
   "outputs": [
    {
     "name": "stdout",
     "output_type": "stream",
     "text": [
      "Accuracy: 0.846832174776564\n"
     ]
    }
   ],
   "source": [
    "# Model Accuracy, how often is the classifier correct?\n",
    "print(\"Accuracy:\",metrics.accuracy_score(y_test, y_pred))"
   ]
  },
  {
   "cell_type": "code",
   "execution_count": 74,
   "id": "baee62b4",
   "metadata": {},
   "outputs": [
    {
     "name": "stdout",
     "output_type": "stream",
     "text": [
      "Precision: 0.8021599810111559\n"
     ]
    }
   ],
   "source": [
    "print(\"Precision:\",metrics.precision_score(y_test, y_pred))"
   ]
  },
  {
   "cell_type": "code",
   "execution_count": 75,
   "id": "f25d0e75",
   "metadata": {},
   "outputs": [
    {
     "name": "stdout",
     "output_type": "stream",
     "text": [
      "Recall: 0.621460095623391\n"
     ]
    }
   ],
   "source": [
    "print(\"Recall:\",metrics.recall_score(y_test, y_pred))"
   ]
  },
  {
   "cell_type": "code",
   "execution_count": 78,
   "id": "802862d6",
   "metadata": {},
   "outputs": [
    {
     "name": "stdout",
     "output_type": "stream",
     "text": [
      "0.7797293597340357\n"
     ]
    }
   ],
   "source": [
    "from sklearn.metrics import roc_curve, roc_auc_score\n",
    "fpr, tpr, _ = roc_curve(y_test, y_pred)\n",
    "auc_score = roc_auc_score(y_test, y_pred)\n",
    "print(auc_score)"
   ]
  },
  {
   "cell_type": "code",
   "execution_count": null,
   "id": "3c895348",
   "metadata": {},
   "outputs": [],
   "source": []
  },
  {
   "cell_type": "code",
   "execution_count": null,
   "id": "e0f95475",
   "metadata": {},
   "outputs": [],
   "source": []
  }
 ],
 "metadata": {
  "kernelspec": {
   "display_name": "Python 3 (ipykernel)",
   "language": "python",
   "name": "python3"
  },
  "language_info": {
   "codemirror_mode": {
    "name": "ipython",
    "version": 3
   },
   "file_extension": ".py",
   "mimetype": "text/x-python",
   "name": "python",
   "nbconvert_exporter": "python",
   "pygments_lexer": "ipython3",
   "version": "3.9.7"
  }
 },
 "nbformat": 4,
 "nbformat_minor": 5
}
